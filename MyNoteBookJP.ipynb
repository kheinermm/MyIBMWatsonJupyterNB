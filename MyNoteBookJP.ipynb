{
    "cells": [
        {
            "cell_type": "markdown",
            "metadata": {},
            "source": "# My Jupyter Notebook on IBM Watson Studio"
        },
        {
            "cell_type": "markdown",
            "metadata": {},
            "source": "**Kheiner Murillo**\n\nMy desire occupation is data science"
        },
        {
            "cell_type": "markdown",
            "metadata": {},
            "source": "*I am interested in data science because i can get knowledge from data*"
        },
        {
            "cell_type": "markdown",
            "metadata": {},
            "source": "### My code below shows a greet mesagge based on language"
        },
        {
            "cell_type": "code",
            "execution_count": 10,
            "metadata": {
                "scrolled": true
            },
            "outputs": [
                {
                    "name": "stdout",
                    "output_type": "stream",
                    "text": "Bonjour Glenn\nHola Sally\nHello John\n"
                }
            ],
            "source": "def greet(lang):\n    if lang == \"es\":\n        return \"Hola\"\n    elif lang == \"fr\":\n        return \"Bonjour\"\n    else:\n        return \"Hello\"\n\n\nprint(greet(\"fr\"), \"Glenn\")\nprint(greet(\"es\"), \"Sally\")\nprint(greet(\"en\"), \"John\")"
        },
        {
            "cell_type": "markdown",
            "metadata": {},
            "source": "| bulleted list | numbered list | hyperlink |\n| ------ | ------ | ------ |\n| * G1 | 1. one | [Google](https://www.google.com) |\n| * I2 | 2. `two` | [IBM Cloud](https://cloud.ibm.com/) |\n| * M3 | 3. thre | [Markdown Cheatsheet](https://github.com/adam-p/markdown-here/wiki/Markdown-Cheatsheet) |"
        },
        {
            "cell_type": "code",
            "execution_count": null,
            "metadata": {},
            "outputs": [],
            "source": ""
        }
    ],
    "metadata": {
        "kernelspec": {
            "display_name": "Python 3.8",
            "language": "python",
            "name": "python3"
        },
        "language_info": {
            "codemirror_mode": {
                "name": "ipython",
                "version": 3
            },
            "file_extension": ".py",
            "mimetype": "text/x-python",
            "name": "python",
            "nbconvert_exporter": "python",
            "pygments_lexer": "ipython3",
            "version": "3.8.12"
        }
    },
    "nbformat": 4,
    "nbformat_minor": 1
}